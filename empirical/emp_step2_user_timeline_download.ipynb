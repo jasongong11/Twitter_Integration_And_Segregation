{
 "cells": [
  {
   "cell_type": "code",
   "execution_count": 1,
   "id": "expressed-leadership",
   "metadata": {},
   "outputs": [],
   "source": [
    "import tweepy\n",
    "import json\n",
    "import datetime\n",
    "import pandas as pd"
   ]
  },
  {
   "cell_type": "code",
   "execution_count": 2,
   "id": "prescription-event",
   "metadata": {},
   "outputs": [],
   "source": [
    "from tqdm import tqdm"
   ]
  },
  {
   "cell_type": "code",
   "execution_count": 19,
   "id": "successful-language",
   "metadata": {},
   "outputs": [],
   "source": [
    "Bearertoken = \"PUT YOUR BEARERTOKEN HERE\""
   ]
  },
  {
   "cell_type": "code",
   "execution_count": 20,
   "id": "broken-sellers",
   "metadata": {},
   "outputs": [],
   "source": [
    "# define the api to get users timeline tweets\n",
    "\n",
    "auth = tweepy.OAuth2BearerHandler(Bearertoken)\n",
    "api = tweepy.API(auth, wait_on_rate_limit=True)\n",
    "tweets_getter = tweepy.Client(bearer_token=Bearertoken, wait_on_rate_limit=True)"
   ]
  },
  {
   "cell_type": "code",
   "execution_count": 22,
   "id": "innovative-father",
   "metadata": {},
   "outputs": [],
   "source": [
    "# define the time window be to in year of 2020\n",
    "start_time = datetime.datetime.strptime(\"2020-01-01\", '%Y-%m-%d')\n",
    "end_time = datetime.datetime.strptime(\"2020-12-31\", '%Y-%m-%d')\n",
    "\n",
    "# define the fields of data we will collect\n",
    "Expansions='author_id'\n",
    "Tweet_fields=['created_at', 'geo', 'author_id', 'in_reply_to_user_id', 'lang']\n",
    "User_fields=['id', 'username', 'created_at', 'public_metrics']"
   ]
  },
  {
   "cell_type": "code",
   "execution_count": 23,
   "id": "adjustable-outline",
   "metadata": {},
   "outputs": [],
   "source": [
    "# define function to write the tweets data into a pandas dataframe\n",
    "def get_user_tweets_df(user_id):\n",
    "    import time\n",
    "    # define the query for the request to the api\n",
    "    Query = 'lang:en from:'+str(user_id)\n",
    "    tweets_list = []\n",
    "    # define the request into a paginator\n",
    "    for response in tweepy.Paginator(tweets_getter.search_all_tweets, query=Query, end_time=end_time,\n",
    "                                expansions=Expansions,\n",
    "                                tweet_fields=Tweet_fields,\n",
    "                                start_time=start_time,               \n",
    "                                max_results=500):\n",
    "        response_data = response.data\n",
    "        if isinstance(response_data,list):\n",
    "            for tweet in response_data:\n",
    "                tweet_data = pd.DataFrame({'tweet_id':tweet.id,\n",
    "                                           'text':tweet.text,\n",
    "                                           'created_at':tweet.created_at,\n",
    "                                           'geo':tweet.geo,\n",
    "                                           'author_id':tweet.author_id,\n",
    "                                           'in_reply_to_user_id':tweet.in_reply_to_user_id,\n",
    "                                           'lang':tweet.lang}, index=[0])\n",
    "                tweets_list.append(tweet_data)\n",
    "        else:\n",
    "            pass\n",
    "        time.sleep(1)\n",
    "        \n",
    "    # concatenate returned tweets into a pandas dataframe\n",
    "    if len(tweets_list) > 0:\n",
    "        user_tweets_df = pd.concat(tweets_list, ignore_index=True)\n",
    "    else:\n",
    "        user_tweets_df = pd.DataFrame()\n",
    "        \n",
    "    return(user_tweets_df)"
   ]
  },
  {
   "cell_type": "code",
   "execution_count": 52,
   "id": "russian-spyware",
   "metadata": {},
   "outputs": [],
   "source": [
    "# load the list of filtered users\n",
    "with open('/data/user_tweets/filtered_user_list.txt', 'r') as f:\n",
    "    user_list = [int(x) for x in f.read().split()]"
   ]
  },
  {
   "cell_type": "code",
   "execution_count": null,
   "id": "loving-quilt",
   "metadata": {},
   "outputs": [],
   "source": [
    "for i in tqdm(range(len(user_list))):\n",
    "    # start downloading the tweets data and store into a pandas dataframe\n",
    "    user_tweets_df = get_user_tweets_df(user_list[i])\n",
    "    \n",
    "    save_file_name = '/data/user_tweets/'+str(user_list[i])+'.csv'\n",
    "     # save the dataframe into a csv file\n",
    "    user_tweets_df.to_csv(save_file_name)"
   ]
  },
  {
   "cell_type": "code",
   "execution_count": null,
   "id": "heated-opinion",
   "metadata": {},
   "outputs": [],
   "source": []
  }
 ],
 "metadata": {
  "kernelspec": {
   "display_name": "Python 3",
   "language": "python",
   "name": "python3"
  },
  "language_info": {
   "codemirror_mode": {
    "name": "ipython",
    "version": 3
   },
   "file_extension": ".py",
   "mimetype": "text/x-python",
   "name": "python",
   "nbconvert_exporter": "python",
   "pygments_lexer": "ipython3",
   "version": "3.7.4"
  }
 },
 "nbformat": 4,
 "nbformat_minor": 5
}
